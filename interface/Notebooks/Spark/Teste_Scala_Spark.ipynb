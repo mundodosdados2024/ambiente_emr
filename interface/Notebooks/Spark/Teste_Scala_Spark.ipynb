{
 "cells": [
  {
   "cell_type": "code",
   "execution_count": 1,
   "id": "8de7a2ca-f36a-420c-beba-0982b4022ffd",
   "metadata": {},
   "outputs": [],
   "source": [
    "import org.apache.spark.sql.SparkSession"
   ]
  },
  {
   "cell_type": "code",
   "execution_count": 2,
   "id": "18c9a1b8-1105-4875-88d8-97283e564581",
   "metadata": {},
   "outputs": [
    {
     "data": {
      "text/plain": [
       "spark = org.apache.spark.sql.SparkSession@3cc495b8\n"
      ]
     },
     "metadata": {},
     "output_type": "display_data",
     "source": "user"
    },
    {
     "data": {
      "text/plain": [
       "org.apache.spark.sql.SparkSession@3cc495b8"
      ]
     },
     "execution_count": 2,
     "metadata": {},
     "output_type": "execute_result"
    }
   ],
   "source": [
    "val spark = SparkSession.builder()\n",
    "  .appName(\"Scala - Iceberg with MinIO\")\n",
    "  .config(\"spark.sql.catalog.lake\", \"org.apache.iceberg.spark.SparkCatalog\")\n",
    "  .config(\"spark.sql.catalog.lake.type\", \"hadoop\")\n",
    "  .config(\"spark.sql.catalog.lake.warehouse\", \"s3a://serasaexperian-odin-data-mesh-dev-multiprovider/\")\n",
    "  .config(\"spark.sql.catalog.lake.hadoop.fs.s3a.endpoint\", \"http://minio:9000\")\n",
    "  .config(\"spark.sql.catalog.lake.hadoop.fs.s3a.access.key\", \"datalake\")\n",
    "  .config(\"spark.sql.catalog.lake.hadoop.fs.s3a.secret.key\", \"datalake\")\n",
    "  .config(\"spark.sql.catalog.lake.hadoop.fs.s3a.path.style.access\", \"true\")\n",
    "  .config(\"spark.sql.catalog.lake.hadoop.fs.s3a.impl\", \"org.apache.hadoop.fs.s3a.S3AFileSystem\")\n",
    "  .getOrCreate()"
   ]
  },
  {
   "cell_type": "code",
   "execution_count": 3,
   "id": "25019403-986d-4c67-919c-b274a031d398",
   "metadata": {},
   "outputs": [
    {
     "data": {
      "text/plain": [
       "df = [NUM_SORTEIO: string, ACUMULADO: boolean ... 31 more fields]\n"
      ]
     },
     "metadata": {},
     "output_type": "display_data",
     "source": "user"
    },
    {
     "data": {
      "text/plain": [
       "[NUM_SORTEIO: string, ACUMULADO: boolean ... 31 more fields]"
      ]
     },
     "execution_count": 3,
     "metadata": {},
     "output_type": "execute_result"
    }
   ],
   "source": [
    "val df = spark.sql(\"select * from lake.db_novo2.tb_teste\")"
   ]
  },
  {
   "cell_type": "code",
   "execution_count": 5,
   "id": "7eb631bb-a7cb-4a98-aa8e-c042dda59bd6",
   "metadata": {},
   "outputs": [
    {
     "name": "stdout",
     "output_type": "stream",
     "text": [
      "-RECORD 0-----------------------------------------------------\n",
      " NUM_SORTEIO                 | 562                            \n",
      " ACUMULADO                   | true                           \n",
      " DT_APURACAO                 | 2010-09-02                     \n",
      " DT_PROX_CONC                | 2010-09-06                     \n",
      " ORDEM_SORTEIO               | [3, 22, 16, 8, 13, 14, 24, ... \n",
      " DETALHAMENTO_CIDADE         | true                           \n",
      " ID                          | NULL                           \n",
      " IND_CONCURSO_ESP            | 1                              \n",
      " DEZENAS                     | [1, 2, 3, 5, 7, 8, 13, 14, ... \n",
      " DEZENAS_SEG_SORTEIO         | NULL                           \n",
      " MUNIC_GANHADORES            | []                             \n",
      " RATEIO_PREMIO               | [{15 acertos, 1, 0, 0.0}, {... \n",
      " RESULT_EQUIP_ESPOR          | NULL                           \n",
      " LOCAL_SORTEIO               | CAMINHÃO DA SORTE              \n",
      " MUNIC_UF_SORTEIO            | SANTA ROSA DE VITERBO, SP      \n",
      " TIME_CORACAO_SORTE          |                                \n",
      " NUM_CONSURSO_ANT            | 561                            \n",
      " NUM_CONCURSO_FINAL_0_5      | 570                            \n",
      " NUM_PROXIMO_CONCURSO        | 563                            \n",
      " NUM_JOGO                    | 8                              \n",
      " OBS                         |                                \n",
      " PREM_CONTIGENCIA            | NULL                           \n",
      " TP_JOGO                     | LOTOFACIL                      \n",
      " TP_PUBLICACAO               | 3                              \n",
      " ULTIMO_CONSURSO             | true                           \n",
      " VL_ACUM_CONCURSO_ESP        | 0.00                           \n",
      " VL_ACUM_CONCURSO_0_5        | 0.00                           \n",
      " VL_ACUM_PROX_CONCURSO       | 1,673,214.96                   \n",
      " VL_ARRECADADO               | 17,075,622.50                  \n",
      " VL_ESTIM_PROX_CONCURSO      | 3,500,000.00                   \n",
      " VL_SALDO_RESERV_GARANTIDORA | 0.00                           \n",
      " VL_TOTAL_PREMIO_FAIXA_1     | 0.00                           \n",
      " DT_HR_INGESTAO              | 2024-05-11 15:26:18            \n",
      "only showing top 1 row\n",
      "\n"
     ]
    }
   ],
   "source": [
    "df.show(1, 30, true)"
   ]
  },
  {
   "cell_type": "code",
   "execution_count": 6,
   "id": "2fc8f8d1-9dee-4ebf-b872-7cc1d0856b6b",
   "metadata": {},
   "outputs": [
    {
     "name": "stdout",
     "output_type": "stream",
     "text": [
      "+-------------------------------+-------------------+\n",
      "|key                            |value              |\n",
      "+-------------------------------+-------------------+\n",
      "|current-snapshot-id            |6586525612042701388|\n",
      "|format                         |iceberg/parquet    |\n",
      "|format-version                 |2                  |\n",
      "|write.parquet.compression-codec|zstd               |\n",
      "+-------------------------------+-------------------+\n",
      "\n"
     ]
    }
   ],
   "source": [
    "spark.sql(s\"SHOW TBLPROPERTIES lake.db_novo2.tb_teste\").show(false)"
   ]
  },
  {
   "cell_type": "code",
   "execution_count": 7,
   "id": "722ffc45-0b93-4f94-a430-744a2099afe7",
   "metadata": {},
   "outputs": [],
   "source": [
    "spark.stop()"
   ]
  },
  {
   "cell_type": "code",
   "execution_count": null,
   "id": "59c53c61-48e3-49a1-84ff-e146e628082a",
   "metadata": {},
   "outputs": [],
   "source": []
  }
 ],
 "metadata": {
  "kernelspec": {
   "display_name": "Apache Toree - Scala",
   "language": "scala",
   "name": "apache_toree_scala"
  },
  "language_info": {
   "codemirror_mode": "text/x-scala",
   "file_extension": ".scala",
   "mimetype": "text/x-scala",
   "name": "scala",
   "pygments_lexer": "scala",
   "version": "2.12.15"
  }
 },
 "nbformat": 4,
 "nbformat_minor": 5
}
