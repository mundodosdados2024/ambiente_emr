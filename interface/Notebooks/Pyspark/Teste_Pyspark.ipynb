{
 "cells": [
  {
   "cell_type": "code",
   "execution_count": 9,
   "id": "fa070f54-7ce1-4486-95ba-78d88682b17c",
   "metadata": {},
   "outputs": [],
   "source": [
    "from pyspark.sql import SparkSession"
   ]
  },
  {
   "cell_type": "code",
   "execution_count": 10,
   "id": "5763cf07-e6bb-4569-91e6-f10346ddf896",
   "metadata": {},
   "outputs": [],
   "source": [
    "spark = SparkSession.builder \\\n",
    "    .appName(\"Iceberg with MinIO\") \\\n",
    "    .config(\"spark.sql.catalog.lake\", \"org.apache.iceberg.spark.SparkCatalog\") \\\n",
    "    .config(\"spark.sql.catalog.lake.type\", \"hadoop\") \\\n",
    "    .config(\"spark.sql.catalog.lake.warehouse\", \"s3a://serasaexperian-odin-data-mesh-dev-multiprovider/\") \\\n",
    "    .config(\"spark.sql.catalog.lake.hadoop.fs.s3a.endpoint\", \"http://minio:9000\") \\\n",
    "    .config(\"spark.sql.catalog.lake.hadoop.fs.s3a.access.key\", \"datalake\") \\\n",
    "    .config(\"spark.sql.catalog.lake.hadoop.fs.s3a.secret.key\", \"datalake\") \\\n",
    "    .config(\"spark.sql.catalog.lake.hadoop.fs.s3a.path.style.access\", \"true\") \\\n",
    "    .config(\"spark.sql.catalog.lake.hadoop.fs.s3a.impl\", \"org.apache.hadoop.fs.s3a.S3AFileSystem\") \\\n",
    "    .getOrCreate()"
   ]
  },
  {
   "cell_type": "code",
   "execution_count": 11,
   "id": "0d44c6aa-59e3-4fb6-b60b-73525871d651",
   "metadata": {},
   "outputs": [],
   "source": [
    "df = spark.sql(\"select * from lake.db_novo2.tb_teste\")"
   ]
  },
  {
   "cell_type": "code",
   "execution_count": 12,
   "id": "452d58a4-de84-4476-9d12-1db2e51e78a4",
   "metadata": {},
   "outputs": [
    {
     "name": "stdout",
     "output_type": "stream",
     "text": [
      "+-----------+---------+-----------+------------+--------------------+-------------------+----+----------------+--------------------+-------------------+----------------+--------------------+------------------+-----------------+--------------------+------------------+----------------+----------------------+--------------------+--------+---+----------------+---------+-------------+---------------+--------------------+--------------------+---------------------+-------------+----------------------+---------------------------+-----------------------+-------------------+\n",
      "|NUM_SORTEIO|ACUMULADO|DT_APURACAO|DT_PROX_CONC|       ORDEM_SORTEIO|DETALHAMENTO_CIDADE|  ID|IND_CONCURSO_ESP|             DEZENAS|DEZENAS_SEG_SORTEIO|MUNIC_GANHADORES|       RATEIO_PREMIO|RESULT_EQUIP_ESPOR|    LOCAL_SORTEIO|    MUNIC_UF_SORTEIO|TIME_CORACAO_SORTE|NUM_CONSURSO_ANT|NUM_CONCURSO_FINAL_0_5|NUM_PROXIMO_CONCURSO|NUM_JOGO|OBS|PREM_CONTIGENCIA|  TP_JOGO|TP_PUBLICACAO|ULTIMO_CONSURSO|VL_ACUM_CONCURSO_ESP|VL_ACUM_CONCURSO_0_5|VL_ACUM_PROX_CONCURSO|VL_ARRECADADO|VL_ESTIM_PROX_CONCURSO|VL_SALDO_RESERV_GARANTIDORA|VL_TOTAL_PREMIO_FAIXA_1|     DT_HR_INGESTAO|\n",
      "+-----------+---------+-----------+------------+--------------------+-------------------+----+----------------+--------------------+-------------------+----------------+--------------------+------------------+-----------------+--------------------+------------------+----------------+----------------------+--------------------+--------+---+----------------+---------+-------------+---------------+--------------------+--------------------+---------------------+-------------+----------------------+---------------------------+-----------------------+-------------------+\n",
      "|        562|     true| 2010-09-02|  2010-09-06|[3, 22, 16, 8, 13...|               true|NULL|               1|[1, 2, 3, 5, 7, 8...|               NULL|              []|[{15 acertos, 1, ...|              NULL|CAMINHÃO DA SORTE|SANTA ROSA DE VIT...|                  |             561|                   570|                 563|       8|   |            NULL|LOTOFACIL|            3|           true|                0.00|                0.00|         1,673,214.96|17,075,622.50|          3,500,000.00|                       0.00|                   0.00|2024-05-11 15:26:18|\n",
      "+-----------+---------+-----------+------------+--------------------+-------------------+----+----------------+--------------------+-------------------+----------------+--------------------+------------------+-----------------+--------------------+------------------+----------------+----------------------+--------------------+--------+---+----------------+---------+-------------+---------------+--------------------+--------------------+---------------------+-------------+----------------------+---------------------------+-----------------------+-------------------+\n",
      "only showing top 1 row\n",
      "\n"
     ]
    }
   ],
   "source": [
    "df.show(1)"
   ]
  },
  {
   "cell_type": "code",
   "execution_count": 15,
   "id": "10b73661-743a-473d-afdd-74c090dff344",
   "metadata": {},
   "outputs": [
    {
     "name": "stdout",
     "output_type": "stream",
     "text": [
      "+--------------------+-------------------+\n",
      "|                 key|              value|\n",
      "+--------------------+-------------------+\n",
      "| current-snapshot-id|6586525612042701388|\n",
      "|              format|    iceberg/parquet|\n",
      "|      format-version|                  2|\n",
      "|write.parquet.com...|               zstd|\n",
      "+--------------------+-------------------+\n",
      "\n"
     ]
    }
   ],
   "source": [
    "spark.sql(\"SHOW TBLPROPERTIES lake.db_novo2.tb_teste\").show()"
   ]
  },
  {
   "cell_type": "code",
   "execution_count": 16,
   "id": "2b896882-3463-4e38-a0e4-4d788c1cd8a5",
   "metadata": {},
   "outputs": [],
   "source": [
    "spark.stop()\n"
   ]
  },
  {
   "cell_type": "code",
   "execution_count": null,
   "id": "82b6ce70-2671-4983-9e8d-faba7f5eec80",
   "metadata": {},
   "outputs": [],
   "source": []
  }
 ],
 "metadata": {
  "kernelspec": {
   "display_name": "Python 3 (ipykernel)",
   "language": "python",
   "name": "python3"
  },
  "language_info": {
   "codemirror_mode": {
    "name": "ipython",
    "version": 3
   },
   "file_extension": ".py",
   "mimetype": "text/x-python",
   "name": "python",
   "nbconvert_exporter": "python",
   "pygments_lexer": "ipython3",
   "version": "3.9.16"
  }
 },
 "nbformat": 4,
 "nbformat_minor": 5
}
